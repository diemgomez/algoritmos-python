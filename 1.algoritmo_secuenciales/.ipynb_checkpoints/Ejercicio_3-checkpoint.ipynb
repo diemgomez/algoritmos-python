{
 "cells": [
  {
   "cell_type": "code",
   "execution_count": null,
   "metadata": {},
   "outputs": [],
   "source": [
    "#Una tienda ofrece un descuento del 15% sobre el total de la compra y el cliente desea saber cuanto deberá pagar \n",
    "#finalmente por su compra.\n",
    "print('Cuanto es el total de la compra')\n",
    "valor_compra = float(input())\n",
    "valor_neto = valor_compra * 0.85\n",
    "\n",
    "print(\" El valor total de su compra es: \" + str(valor_neto) + \" en el cual incluye un 15% de descuento.\")\n"
   ]
  },
  {
   "cell_type": "code",
   "execution_count": null,
   "metadata": {},
   "outputs": [],
   "source": []
  }
 ],
 "metadata": {
  "kernelspec": {
   "display_name": "Python 3",
   "language": "python",
   "name": "python3"
  },
  "language_info": {
   "codemirror_mode": {
    "name": "ipython",
    "version": 2
   },
   "file_extension": ".py",
   "mimetype": "text/x-python",
   "name": "python",
   "nbconvert_exporter": "python",
   "pygments_lexer": "ipython2",
   "version": "2.7.15rc1"
  }
 },
 "nbformat": 4,
 "nbformat_minor": 2
}
