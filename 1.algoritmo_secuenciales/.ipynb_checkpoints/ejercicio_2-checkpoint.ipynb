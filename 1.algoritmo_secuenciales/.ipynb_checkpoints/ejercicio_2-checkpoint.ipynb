{
 "cells": [
  {
   "cell_type": "code",
   "execution_count": null,
   "metadata": {},
   "outputs": [],
   "source": [
    "#Un vendedor recibe un sueldo base mas un 10% extra por comision de sus ventas, el vendedor desea saber cuanto dinero obtendra por concepto de\n",
    "#comisiones por las tres ventas que realiza en el mes y el total que recibirá en el mes tomando en cuenta su sueldo base y comisiones.\n",
    "print(\"Bienvenidos a la plataforma de vendedores\")\n",
    "print('A continuacion ingresar el sueldo base:')\n",
    "sueldo_base = float(input())\n",
    "print('Por favor ingresar la cantidad de ventas realizadas:')\n",
    "cantidad_ventas = int(input())\n",
    "\n",
    "comisiones = (sueldo_base * 0.1)*3\n",
    "\n",
    "sueldo_neto = sueldo_base + comisiones\n",
    "\n",
    "print(\"Señor vendedor, el sueldo devengado es: \" + str(sueldo_neto))\n",
    "\n"
   ]
  },
  {
   "cell_type": "code",
   "execution_count": null,
   "metadata": {},
   "outputs": [],
   "source": []
  }
 ],
 "metadata": {
  "kernelspec": {
   "display_name": "Python 3",
   "language": "python",
   "name": "python3"
  },
  "language_info": {
   "codemirror_mode": {
    "name": "ipython",
    "version": 2
   },
   "file_extension": ".py",
   "mimetype": "text/x-python",
   "name": "python",
   "nbconvert_exporter": "python",
   "pygments_lexer": "ipython2",
   "version": "2.7.15rc1"
  }
 },
 "nbformat": 4,
 "nbformat_minor": 2
}
