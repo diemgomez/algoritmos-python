{
 "cells": [
  {
   "cell_type": "code",
   "execution_count": 1,
   "metadata": {},
   "outputs": [
    {
     "name": "stdout",
     "output_type": "stream",
     "text": [
      "Bienvenidos al Banco Zemog\n",
      "Por indicar al capital a invertir: \n",
      "100\n",
      "¿A cuantos meses desea tener su dinero invertido?: \n",
      "3\n",
      "('El capital futuro de su inversion es: ', 106.12080000000002, ' en los ', 3, ' meses.')\n"
     ]
    }
   ],
   "source": [
    "print(\"Bienvenidos al Banco Zemog\")\n",
    "print('Por indicar al capital a invertir: ')\n",
    "capital_invertir = float(input())\n",
    "print('¿A cuantos meses desea tener su dinero invertido?: ')\n",
    "meses = int(input())\n",
    "capital_futuro = capital_invertir * (1.02)**meses\n",
    "print('El capital futuro de su inversion es: ', capital_futuro, ' en los ', meses, ' meses.')"
   ]
  },
  {
   "cell_type": "code",
   "execution_count": null,
   "metadata": {},
   "outputs": [],
   "source": []
  }
 ],
 "metadata": {
  "kernelspec": {
   "display_name": "Python 3",
   "language": "python",
   "name": "python3"
  },
  "language_info": {
   "codemirror_mode": {
    "name": "ipython",
    "version": 2
   },
   "file_extension": ".py",
   "mimetype": "text/x-python",
   "name": "python",
   "nbconvert_exporter": "python",
   "pygments_lexer": "ipython2",
   "version": "2.7.15rc1"
  }
 },
 "nbformat": 4,
 "nbformat_minor": 2
}
