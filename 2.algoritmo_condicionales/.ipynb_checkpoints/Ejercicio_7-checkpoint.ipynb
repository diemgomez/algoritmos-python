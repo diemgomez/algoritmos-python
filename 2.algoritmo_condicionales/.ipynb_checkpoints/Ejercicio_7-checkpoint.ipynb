{
 "cells": [
  {
   "cell_type": "code",
   "execution_count": 1,
   "metadata": {
    "scrolled": true
   },
   "outputs": [
    {
     "name": "stdout",
     "output_type": "stream",
     "text": [
      "Ingresar nombre completo del paciente:\n",
      "Diego\n",
      "Por favor ingresar edad (meses): \n",
      "190\n",
      "Ingresar genero: \n",
      "0. Femenino\n",
      "1.Masculino\n",
      "masculino\n",
      "Cual es su nivel de hemoglobina: \n",
      "14\n",
      "Diego usted se encuentra en buen estado.\n"
     ]
    }
   ],
   "source": [
    "#Tomando como base los resultados obtenidos en un laboratorio de análisis clinico, un medico determina si una \n",
    "#persona tiene anemia o no, lo cual depende de su nivel de hemoglobina en la sangre, de su edad y de su sexo. \n",
    "#Si el nivel de hemoglobina que tiene una persona es menor que el rango que le corresponde, se determina \n",
    "#su resultado como positivo y en caso contrario como negativo. La tabla en la que el medico se basa para \n",
    "#obtener el resultado es el siguiente.\n",
    "\n",
    "#    EDAD                NIVEL HEMOGLOBINA\n",
    "# 0 Y 1 meses                 13 - 26%\n",
    "#>1 Y 6 meses                 10 - 18%\n",
    "#>6 Y 12 meses                11 - 15%\n",
    "#>1 Y 5 años                 11.5 - 15%\n",
    "#>5 Y 10 meses              12.6 - 15.5%\n",
    "#>10 <= 15 años              13 - 15.5%\n",
    "#>Mujeres > 15 años           12 - 16%\n",
    "#>Hombres > 15 años           14 - 18%\n",
    "\n",
    "print(\"Ingresar nombre completo del paciente:\")\n",
    "nombre_completo = str(raw_input())\n",
    "print(\"Por favor ingresar edad (meses): \")\n",
    "edad = int(input())\n",
    "print(\"Ingresar genero: \" + \"\\n0. Femenino\" + \"\\n1.Masculino\")\n",
    "genero = str(raw_input())\n",
    "print(\"Cual es su nivel de hemoglobina: \")\n",
    "nivel_hemoglobina = float(input())\n",
    "\n",
    "if edad >= 0 and edad <= 1:\n",
    "    if nivel_hemoglobina >= 13 and nivel_hemoglobina <= 26:\n",
    "        print(nombre_completo + \" usted se encuentra en buen estado.\")\n",
    "    else:\n",
    "        print(\"Sus resultados son negativos.\")\n",
    "    \n",
    "if edad > 1  and edad <= 6:\n",
    "    if nivel_hemoglobina >= 10 and nivel_hemoglobina <= 18:\n",
    "        print(nombre_completo + \" usted se encuentra en buen estado.\")\n",
    "    else:\n",
    "        print(\"Sus resultados son negativos.\")\n",
    "\n",
    "if edad > 6 and edad <= 12:\n",
    "    if nivel_hemoglobina >= 11 and nivel_hemoglobina <= 15:\n",
    "        print(nombre_completo + \" usted se encuentra en buen estado.\")\n",
    "    else:\n",
    "        print(\"Sus resultados son negativos.\")\n",
    "\n",
    "if edad > 12 and edad <= 60:\n",
    "    if nivel_hemoglobina >= 11.5 and nivel_hemoglobina <= 15:\n",
    "        print(nombre_completo + \" usted se encuentra en buen estado.\")\n",
    "    else:\n",
    "        print(\"Sus resultados son negativos.\")\n",
    "\n",
    "if edad > 60 and edad <= 120:\n",
    "    if nivel_hemoglobina >= 12.6 and nivel_hemoglobina <= 15.5:\n",
    "        print(nombre_completo + \" ,sus resultado son positivos.\")\n",
    "    else:\n",
    "        print(\"Sus resultados son negativos.\")\n",
    "\n",
    "if edad > 120 and edad <= 180:\n",
    "    if nivel_hemoglobina >= 13 and nivel_hemoglobina <= 15.5:\n",
    "        print(nombre_completo + \" ,sus resultado son positivos.\")\n",
    "    else:\n",
    "        print(\"Sus resultados son negativos.\")\n",
    "        \n",
    "if edad > 180:\n",
    "    if genero == 'masculino' or genero == 'Masculino' or genero == 'MASCULINO': \n",
    "        if nivel_hemoglobina >= 14 and nivel_hemoglobina <= 18:\n",
    "            print(nombre_completo + \" ,sus resultado son positivos.\")\n",
    "        else:\n",
    "            print(\"Sus resultados son negativos.\")\n",
    "\n",
    "    if genero == 'femenino' or genero == 'Femenino' or genero == 'FEMENINO': \n",
    "        if nivel_hemoglobina >= 12 and nivel_hemoglobina <= 16:\n",
    "            print(nombre_completo + \" ,sus resultado son positivos.\")\n",
    "        else:\n",
    "            print(\"Sus resultados son negativos.\")"
   ]
  }
 ],
 "metadata": {
  "kernelspec": {
   "display_name": "Python 3",
   "language": "python",
   "name": "python3"
  },
  "language_info": {
   "codemirror_mode": {
    "name": "ipython",
    "version": 2
   },
   "file_extension": ".py",
   "mimetype": "text/x-python",
   "name": "python",
   "nbconvert_exporter": "python",
   "pygments_lexer": "ipython2",
   "version": "2.7.15rc1"
  }
 },
 "nbformat": 4,
 "nbformat_minor": 2
}
