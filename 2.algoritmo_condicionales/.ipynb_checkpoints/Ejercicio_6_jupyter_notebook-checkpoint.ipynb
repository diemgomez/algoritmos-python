{
 "cells": [
  {
   "cell_type": "code",
   "execution_count": null,
   "metadata": {},
   "outputs": [],
   "source": [
    "#El dueño de una empresa desea planificar las decisiones financieras que tomara en el año siguiente. La manera \n",
    "#de planificarlas depende de lo siguiente:\n",
    "\n",
    "#a. Si actualmente su capital se encuentra con saldo negativo, pedirá un préstamo bancario para que su nuevo saldo\n",
    "#sea de $10,000. Si su capital tiene actualmente un saldo\n",
    "#positivo pedirá un prestamo bancario para tener un nuevo saldo de $20,000, pero si su capital tiene actualmente \n",
    "#un saldo superior a los $20,000 no pedirá ningun prestamo.\n",
    "\n",
    "#b. Posteriormente repartirá su presupuesto de la siguiente manera.\n",
    "#    i. $5,000 para equipo de computo\n",
    "#    ii. $2,000 para mobiliario\n",
    "#Y el resto la mitad será para la compra de insumos y la otra para otorgar incentivos al personal.\n",
    "\n",
    "#c. Desplegar que cantidades se destinaran para la compra de insumos e incentivos al personal y en caso de que \n",
    "#fuera necesario, a cuanto ascenderia la cantidad que se pediria al banco.\n",
    "\n",
    "print(\"Cual es el valor de su capital final\")\n",
    "capital = float(input())\n",
    "\n",
    "if capital < 0:\n",
    "    capital_positivo = (capital)*-1\n",
    "    valor_prestamo = capital_positivo + 10000 \n",
    "    capital_futuro = capital + valor_prestamo\n",
    "    \n",
    "elif capital > 0 and capital <= 20000:\n",
    "    valor_prestamo = 20000 - capital\n",
    "    capital_futuro = capital + valor_prestamo\n",
    "    \n",
    "elif capital > 20000:\n",
    "    capital_futuro = capital\n",
    "    \n",
    "capital_menos_equi_mat = capital_futuro - 7000\n",
    "insumos = capital_menos_equi_mat / 2\n",
    "incentivos = capital_menos_equi_mat / 2\n",
    "\n",
    "if valor_prestamo > 0:\n",
    "    print(\"Señor gerente, usted debe de hacer un prestamo por $ \" + str(valor_prestamo) + \" pesos.\")\n",
    "    \n",
    "else:\n",
    "    print(\"No debe de realizar ningun prestamo\")\n",
    "\n",
    "print(\"Para el siguiente año, el presupuesto será designado de la siguiente forma:\")\n",
    "print(\"Incentivos: $\" + str(incentivos))\n",
    "print(\"Insumos: $\" + str(insumos))\n"
   ]
  },
  {
   "cell_type": "code",
   "execution_count": null,
   "metadata": {},
   "outputs": [],
   "source": []
  }
 ],
 "metadata": {
  "kernelspec": {
   "display_name": "Python 3",
   "language": "python",
   "name": "python3"
  },
  "language_info": {
   "codemirror_mode": {
    "name": "ipython",
    "version": 2
   },
   "file_extension": ".py",
   "mimetype": "text/x-python",
   "name": "python",
   "nbconvert_exporter": "python",
   "pygments_lexer": "ipython2",
   "version": "2.7.15rc1"
  }
 },
 "nbformat": 4,
 "nbformat_minor": 2
}
