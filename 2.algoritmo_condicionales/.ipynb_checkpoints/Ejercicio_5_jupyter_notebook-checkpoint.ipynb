{
 "cells": [
  {
   "cell_type": "code",
   "execution_count": null,
   "metadata": {},
   "outputs": [],
   "source": [
    "#Una fruteria ofrece las manzanas con descuento segun la siguiente tabla:\n",
    "#CANTIDAD KILOS COMPRADOS             %DESCUENTO\n",
    "#        0 - 2                            0%\n",
    "#      2.01 - 5                           10%\n",
    "#      5.01 - 10                          15%\n",
    "#     10.01 en adelante                   20%\n",
    "\n",
    "print(\"Por favor ingresar cantidad kilos de manzanas a comprar:\")\n",
    "cantidad_manzanas = int(input())\n",
    "\n",
    "print(\"Por favor ingresar valor unitario del kilo:\")\n",
    "precio = float(input())\n",
    "\n",
    "if cantidad_manzanas <= 2:\n",
    "    valor_total = cantidad_manzanas * precio\n",
    "    print(\"El valor total de su compra es \" + str(valor_total) + \" pesos. No tiene descuento.\")\n",
    "    \n",
    "elif cantidad_manzanas > 2 and cantidad_manzanas <= 5:\n",
    "    valor_total = (cantidad_manzanas * precio)*0.9\n",
    "    print(\"El valor total de su compra es \" + str(valor_total) + \" pesos. Tiene un 10% de descuento.\")\n",
    "\n",
    "elif cantidad_manzanas > 5 and cantidad_manzanas <= 10:\n",
    "    valor_total = (cantidad_manzanas * precio)*0.85\n",
    "    print(\"El valor total de su compra es\" + str(valor_total) + \" pesos. Tiene un 15% de descuento.\")\n",
    "\n",
    "else:\n",
    "    valor_total = (cantidad_manzanas * precio)*0.8\n",
    "    print(\"El valor total de su compra es \" + str(valor_total) + \" pesos. Tiene un 20% de descuento.\")\n"
   ]
  }
 ],
 "metadata": {
  "kernelspec": {
   "display_name": "Python 3",
   "language": "python",
   "name": "python3"
  },
  "language_info": {
   "codemirror_mode": {
    "name": "ipython",
    "version": 2
   },
   "file_extension": ".py",
   "mimetype": "text/x-python",
   "name": "python",
   "nbconvert_exporter": "python",
   "pygments_lexer": "ipython2",
   "version": "2.7.15rc1"
  }
 },
 "nbformat": 4,
 "nbformat_minor": 2
}
