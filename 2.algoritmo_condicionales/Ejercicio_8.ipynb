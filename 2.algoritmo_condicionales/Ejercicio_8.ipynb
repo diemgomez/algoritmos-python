{
 "cells": [
  {
   "cell_type": "code",
   "execution_count": null,
   "metadata": {},
   "outputs": [],
   "source": [
    "#Una institucion educativa establecio un programa para estimular a los alumnos con buen rendimiento academico\n",
    "#y que consiste de lo siguiente:\n",
    "#a. Si el promedio es de 9.5 o mas y el alumno es de preparatoria, entonces este podrá cursar 55 unidades y le\n",
    "#hará un 25% de descuento.\n",
    "#b. Si el promedio es mayor o igual a 9 pero es menor a 9.5 y el alumno es de preparatoria, entonces este podrá\n",
    "#cursar 50 unidades y se le hará un 10% de descuento.\n",
    "#c. Si el promedio es mayor que 7 y menor que 9 y el alumno es de preparatoria , este podrá cursar 50 unidades y\n",
    "#no tendrá ningún descuento.\n"
   ]
  }
 ],
 "metadata": {
  "kernelspec": {
   "display_name": "Python 3",
   "language": "python",
   "name": "python3"
  },
  "language_info": {
   "codemirror_mode": {
    "name": "ipython",
    "version": 2
   },
   "file_extension": ".py",
   "mimetype": "text/x-python",
   "name": "python",
   "nbconvert_exporter": "python",
   "pygments_lexer": "ipython2",
   "version": "2.7.15rc1"
  }
 },
 "nbformat": 4,
 "nbformat_minor": 2
}
