{
 "cells": [
  {
   "cell_type": "code",
   "execution_count": 2,
   "metadata": {},
   "outputs": [
    {
     "name": "stdout",
     "output_type": "stream",
     "text": [
      "Bienvenidos al juego de quien quiere ser millonario Si/No\n",
      "¿Colon descubrio America?\n",
      "SI\n",
      "Su respuesta es correcta!! \n",
      "siguiente pregunta\n",
      "\n",
      "Vamos a la siguiente pregunta\n",
      "¿La independencia de Mexico fue en el año 1810?\n",
      "si\n",
      "Su respuesta es correcta!! \n",
      "siguiente pregunta\n",
      "\n",
      "Vamos por la ultima pregunta :D\n",
      "¿The Doors fue un grupo de rock americano?\n",
      "si\n",
      "Su respuesta es correcta!! \n",
      "siguiente pregunta\n",
      "\n"
     ]
    }
   ],
   "source": [
    "#En un juego de preguntas a las que se responde \"Si\" o \"No\" gana quien responda correctamente tres preguntas. \n",
    "#Si se responde mal a cualquiera de ellas ya no se pregunta la siguiente y termina el juego. Las preguntas son:\n",
    "print(\"Bienvenidos al juego de quien quiere ser millonario Si/No\")\n",
    "\n",
    "print(\"¿Colon descubrio America?\")\n",
    "respuesta = str(raw_input())\n",
    "if respuesta == \"Si\" or respuesta == \"SI\" or respuesta == 'si': \n",
    "    print(\"Su respuesta es correcta!! \\nsiguiente pregunta\\n\")\n",
    "\n",
    "    print(\"Vamos a la siguiente pregunta\")\n",
    "    print(\"¿La independencia de Mexico fue en el año 1810?\")\n",
    "    respuesta = str(raw_input())\n",
    "    if respuesta == \"Si\" or respuesta == \"SI\" or respuesta == \"si\":\n",
    "        print(\"Su respuesta es correcta!! \\nsiguiente pregunta\\n\")\n",
    "    \n",
    "        print(\"Vamos por la ultima pregunta :D\")\n",
    "        print(\"¿The Doors fue un grupo de rock americano?\")\n",
    "        respuesta = str(raw_input())\n",
    "        if respuesta == \"Si\" or respuesta == \"SI\" or respuesta == \"si\":\n",
    "            print(\"Felicidades!! \\nEres el ganador de QUIEN QUIERE SER MILLONARIO!!\\n\")\n",
    "            \n",
    "        else: \n",
    "            print(\"Lo sentimos su respuesta es incorrecta :(\")\n",
    "    \n",
    "    else:\n",
    "        print(\"Lo sentimos su respuesta es incorrecta :(\")\n",
    "\n",
    "else:\n",
    "    print(\"Lo sentimos su respuesta es incorrecta :(\")\n"
   ]
  },
  {
   "cell_type": "code",
   "execution_count": null,
   "metadata": {},
   "outputs": [],
   "source": []
  }
 ],
 "metadata": {
  "kernelspec": {
   "display_name": "Python 3",
   "language": "python",
   "name": "python3"
  },
  "language_info": {
   "codemirror_mode": {
    "name": "ipython",
    "version": 2
   },
   "file_extension": ".py",
   "mimetype": "text/x-python",
   "name": "python",
   "nbconvert_exporter": "python",
   "pygments_lexer": "ipython2",
   "version": "2.7.15rc1"
  }
 },
 "nbformat": 4,
 "nbformat_minor": 2
}
