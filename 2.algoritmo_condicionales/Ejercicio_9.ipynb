{
 "cells": [
  {
   "cell_type": "code",
   "execution_count": null,
   "metadata": {},
   "outputs": [],
   "source": [
    "#Lea tres numeros diferentes y determine el numero medio del conjunto de los tres numeros(el numero medio es aquel\n",
    "#numero que no es ni mayor, ni menos)\n",
    "\n",
    "print('Por favor ingresar primer valor: ')\n",
    "numero_1 = float(input())\n",
    "\n",
    "print('Por favor ingresar segundo valor: ')\n",
    "numero_2 = float(input())\n",
    "\n",
    "print('Por favor ingresar tercer valor: ')\n",
    "numero_3 = float(input())\n",
    "\n",
    "if numero_1 > numero_2 and numero_1 > numero_3 and numero_2 > numero_3:\n",
    "\n",
    "    print(\"El valor de \" + str(numero_2) + \" es el de la mitad\")\n",
    "    \n",
    "elif numero_1 > numero_2 and numero_1 > numero_3 and numero_3 > numero_2:\n",
    "\n",
    "    print(\"El valor de \" + str(numero_3) + \" es el de la mitad\")\n",
    "    \n",
    "elif numero_3 > numero_1 and numero_3 > numero_2 and numero_2 > numero_1:\n",
    "\n",
    "    print(\"El valor de \" + str(numero_2) + \" es el de la mitad\")\n",
    "\n",
    "elif numero_3 > numero_1 and numero_3 > numero_2 and numero_1 > numero_2:\n",
    "\n",
    "    print(\"El valor de \" + str(numero_1) + \" es el de la mitad\")\n",
    "\n",
    "elif numero_2 > numero_1 and numero_2 > numero_3 and numero_3 > numero_1:\n",
    "\n",
    "    print(\"El valor de \" + str(numero_3) + \" es el de la mitad\")\n",
    "\n",
    "elif numero_2 > numero_1 and numero_2 > numero_3 and numero_1 > numero_3:\n",
    "\n",
    "    print(\"El valor de \" + str(numero_1) + \" es el de la mitad\")\n"
   ]
  },
  {
   "cell_type": "code",
   "execution_count": null,
   "metadata": {},
   "outputs": [],
   "source": []
  }
 ],
 "metadata": {
  "kernelspec": {
   "display_name": "Python 3",
   "language": "python",
   "name": "python3"
  },
  "language_info": {
   "codemirror_mode": {
    "name": "ipython",
    "version": 2
   },
   "file_extension": ".py",
   "mimetype": "text/x-python",
   "name": "python",
   "nbconvert_exporter": "python",
   "pygments_lexer": "ipython2",
   "version": "2.7.15rc1"
  }
 },
 "nbformat": 4,
 "nbformat_minor": 2
}
