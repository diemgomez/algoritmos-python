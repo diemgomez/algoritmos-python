{
 "cells": [
  {
   "cell_type": "code",
   "execution_count": null,
   "metadata": {},
   "outputs": [],
   "source": [
    "#En una llantera se ha establecido una promocion de las llantas marca \"Ponchadas\", dicha promocion consiste en lo \n",
    "#siguiente:\n",
    "#a.Si se compran menos de cinco llantas el precio es de $300 cada una, de $250 si se compran de cinco a 10 y de $200 si se compran más de 10.\n",
    "\n",
    "#Obtener la cantidad de dinero que una persona tiene que pagar por cada una de las llantas que compra y la que \n",
    "#tiene que pagar por el total de la compra.\n",
    "print(\"Bienvenido al almacen ZEMOG\")\n",
    "print(\"Por favor ingresar la cantidad de llantas a comprar:\")\n",
    "cantidad_llantas = int(input())\n",
    "if cantidad_llantas < 5:\n",
    "    valor_total = cantidad_llantas * 300\n",
    "    print(\"Por su compra, el costo de cada llanta es 300 pesos\")\n",
    "    print(\"El valor total de su compra es: \" + str(valor_total) + \" pesos.\")\n",
    "\n",
    "elif cantidad_llantas >= 5 and cantidad_llantas <= 10:\n",
    "    valor_total = cantidad_llantas * 250\n",
    "    print(\"Por su compra, el costo de cada llanta es 250 pesos\")\n",
    "    print(\"El valor total de su compra es: \" + str(valor_total) + \" pesos.\")\n",
    "\n",
    "else:\n",
    "    valor_total = cantidad_llantas * 200\n",
    "    print(\"Por su compra, el costo de cada llanta es 200 pesos\")\n",
    "    print(\"El valor total de su compra es: \" + str(valor_total) + \" pesos.\")\n"
   ]
  },
  {
   "cell_type": "code",
   "execution_count": null,
   "metadata": {},
   "outputs": [],
   "source": []
  },
  {
   "cell_type": "code",
   "execution_count": null,
   "metadata": {},
   "outputs": [],
   "source": []
  }
 ],
 "metadata": {
  "kernelspec": {
   "display_name": "Python 3",
   "language": "python",
   "name": "python3"
  },
  "language_info": {
   "codemirror_mode": {
    "name": "ipython",
    "version": 2
   },
   "file_extension": ".py",
   "mimetype": "text/x-python",
   "name": "python",
   "nbconvert_exporter": "python",
   "pygments_lexer": "ipython2",
   "version": "2.7.15rc1"
  }
 },
 "nbformat": 4,
 "nbformat_minor": 2
}
