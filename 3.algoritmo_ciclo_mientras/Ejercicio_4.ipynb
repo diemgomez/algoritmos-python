{
 "cells": [
  {
   "cell_type": "code",
   "execution_count": null,
   "metadata": {},
   "outputs": [],
   "source": [
    "#La presión, volumen y temperatura de una masa de aire se relacionan por la fórmula:\n",
    "#Masa = Presión * Volumen / 0.37 (Temperatura + 460)\n",
    "#Calcular el promedio de masa de aire de los neumáticos de n vehículos que están en\n",
    "#compostura en un servicio de alineación y balanceo. Los vehículos pueden ser\n",
    "#motocicletas o automóviles.\n"
   ]
  }
 ],
 "metadata": {
  "kernelspec": {
   "display_name": "Python 3",
   "language": "python",
   "name": "python3"
  },
  "language_info": {
   "codemirror_mode": {
    "name": "ipython",
    "version": 2
   },
   "file_extension": ".py",
   "mimetype": "text/x-python",
   "name": "python",
   "nbconvert_exporter": "python",
   "pygments_lexer": "ipython2",
   "version": "2.7.15rc1"
  }
 },
 "nbformat": 4,
 "nbformat_minor": 2
}
