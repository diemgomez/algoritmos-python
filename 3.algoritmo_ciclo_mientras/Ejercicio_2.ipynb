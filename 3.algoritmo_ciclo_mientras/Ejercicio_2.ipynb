{
 "cells": [
  {
   "cell_type": "code",
   "execution_count": null,
   "metadata": {},
   "outputs": [],
   "source": [
    "#En un supermercado una ama de casa pone en su carrito los artículos que va tomando de\n",
    "#los estantes. La señora quiere asegurarse de que el cajero le cobre bien lo que ella ha\n",
    "#comprado, por lo que cada vez que toma un artículo anota su precio junto con la cantidad\n",
    "#de artículos iguales que ha tomado y determina cuánto dinero gastara en ese artículo; a esto\n",
    "#le suma lo que ira gastando en los demás artículos, hasta que decide que ya tomo todo lo\n",
    "#que necesitaba. Ayúdale a esta señora a obtener el total de sus compras."
   ]
  }
 ],
 "metadata": {
  "kernelspec": {
   "display_name": "Python 3",
   "language": "python",
   "name": "python3"
  },
  "language_info": {
   "codemirror_mode": {
    "name": "ipython",
    "version": 2
   },
   "file_extension": ".py",
   "mimetype": "text/x-python",
   "name": "python",
   "nbconvert_exporter": "python",
   "pygments_lexer": "ipython2",
   "version": "2.7.15rc1"
  }
 },
 "nbformat": 4,
 "nbformat_minor": 2
}
