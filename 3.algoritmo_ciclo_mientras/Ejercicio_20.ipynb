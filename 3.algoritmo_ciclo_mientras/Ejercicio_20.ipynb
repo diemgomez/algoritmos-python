{
 "cells": [
  {
   "cell_type": "code",
   "execution_count": null,
   "metadata": {},
   "outputs": [
    {
     "name": "stdout",
     "output_type": "stream",
     "text": [
      "Ingresar valor primer numero\n",
      "5\n",
      "Ingresar valor segundo numero\n",
      "5\n",
      "Ingresar opcion de operacion\n",
      "a. Sumar\n",
      "b. Restar\n",
      "c. Multiplicar\n",
      "d. Dividir\n",
      "e. Cubo\n",
      "f. Cuarta\n",
      "g. Raiz Cuadrada\n",
      "h. Salir\n",
      "f\n",
      "Ingresar valor primer numero\n"
     ]
    }
   ],
   "source": [
    "#Elaborar un algoritmo que muestre un menú de la siguiente manera:\n",
    "#a. Ingresar dos números.\n",
    "#b. Sumar.\n",
    "#c. Restar.\n",
    "#d. Multiplicar.\n",
    "#e. Dividir.\n",
    "#f. Cubo.\n",
    "#g. Cuarta.\n",
    "#h. Raíz Cuadrada.\n",
    "#i. Salir.\n",
    "while True:\n",
    "    print 'Ingresar valor primer numero'\n",
    "    numero_1 = float(input())\n",
    "    print 'Ingresar valor segundo numero'\n",
    "    numero_2 = float(input())\n",
    "    print 'Ingresar opcion de operacion'\n",
    "    print 'a. Sumar'\n",
    "    print 'b. Restar'\n",
    "    print 'c. Multiplicar'\n",
    "    print 'd. Dividir'\n",
    "    print 'e. Cubo'\n",
    "    print 'f. Cuarta'\n",
    "    print 'g. Raiz Cuadrada'\n",
    "    print 'h. Salir'\n",
    "    opcion = str(raw_input())\n",
    "    if opcion == 'a' or opcion == 'A':\n",
    "        resultado = numero_1 + numero_2\n",
    "        continue\n",
    "    elif opcion == 'b' or opcion == 'B':\n",
    "        resultado = numero_1 - numero_2\n",
    "        continue\n",
    "    elif opcion == 'c' or opcion == 'C':\n",
    "        resultado = numero_1 * numero_2\n",
    "        continue\n",
    "    elif opcion == 'd' or opcion == 'D':\n",
    "        resultado = numero_1 / numero_2\n",
    "        continue\n",
    "    elif opcion == 'e' or opcion == 'E':\n",
    "        resultado = (numero_1 + numero_2)**3\n",
    "        continue\n",
    "    elif opcion == 'f' or opcion == 'F':\n",
    "        resultado = (numero_1 + numero_2)/4\n",
    "        continue\n",
    "    elif opcion == 'g' or opcion == 'G':\n",
    "        resultado = (numero_1 + numero_2)**0.5\n",
    "        continue\n",
    "    elif opcion == 'h' or opcion == 'H':\n",
    "        break\n",
    "print resultado"
   ]
  },
  {
   "cell_type": "code",
   "execution_count": null,
   "metadata": {},
   "outputs": [],
   "source": []
  }
 ],
 "metadata": {
  "kernelspec": {
   "display_name": "Python 3",
   "language": "python",
   "name": "python3"
  },
  "language_info": {
   "codemirror_mode": {
    "name": "ipython",
    "version": 2
   },
   "file_extension": ".py",
   "mimetype": "text/x-python",
   "name": "python",
   "nbconvert_exporter": "python",
   "pygments_lexer": "ipython2",
   "version": "2.7.15rc1"
  }
 },
 "nbformat": 4,
 "nbformat_minor": 2
}
