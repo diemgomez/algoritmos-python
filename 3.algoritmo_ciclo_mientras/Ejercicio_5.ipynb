{
 "cells": [
  {
   "cell_type": "code",
   "execution_count": null,
   "metadata": {},
   "outputs": [],
   "source": [
    "#Determinar la cantidad semanal de dinero que recibirá cada uno de los n obreros de\n",
    "#una empresa. Se sabe que cuando las horas que trabajo un obrero exceden de 40, el resto se\n",
    "#convierte en horas extras que se pagan al doble de una hora normal, cuando no exceden de 8;\n",
    "#cuando las horas extras exceden de 8 se pagan las primeras 8 al doble de lo que se paga por\n",
    "#una hora normal y el resto al triple"
   ]
  }
 ],
 "metadata": {
  "kernelspec": {
   "display_name": "Python 3",
   "language": "python",
   "name": "python3"
  },
  "language_info": {
   "codemirror_mode": {
    "name": "ipython",
    "version": 2
   },
   "file_extension": ".py",
   "mimetype": "text/x-python",
   "name": "python",
   "nbconvert_exporter": "python",
   "pygments_lexer": "ipython2",
   "version": "2.7.15rc1"
  }
 },
 "nbformat": 4,
 "nbformat_minor": 2
}
