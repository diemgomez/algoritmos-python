{
 "cells": [
  {
   "cell_type": "code",
   "execution_count": null,
   "metadata": {},
   "outputs": [],
   "source": [
    "#Un negocio de copias tiene un límite de producción diaria de 10 000 copias si el tipo\n",
    "#de impresión es offset y de 50 000 si el tipo es estándar. Si hay una solicitud de un el empleado\n",
    "#tiene que verificar que las copias pendientes hasta el momento y las copias solicitadas no\n",
    "#excedan del límite de producción. Si el límite de producción se excediera el trabajo solicitado\n",
    "#no podría ser aceptado. El empleado necesita llevar un buen control de las copias solicitadas\n",
    "#hasta el momento para decidir en forma rápida si los trabajos que se soliciten en el día se\n",
    "#deben aceptar o no."
   ]
  }
 ],
 "metadata": {
  "kernelspec": {
   "display_name": "Python 3",
   "language": "python",
   "name": "python3"
  },
  "language_info": {
   "codemirror_mode": {
    "name": "ipython",
    "version": 2
   },
   "file_extension": ".py",
   "mimetype": "text/x-python",
   "name": "python",
   "nbconvert_exporter": "python",
   "pygments_lexer": "ipython2",
   "version": "2.7.15rc1"
  }
 },
 "nbformat": 4,
 "nbformat_minor": 2
}
