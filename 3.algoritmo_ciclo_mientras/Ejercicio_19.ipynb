{
 "cells": [
  {
   "cell_type": "code",
   "execution_count": null,
   "metadata": {},
   "outputs": [],
   "source": [
    "#Elaborar un algoritmo que solicite ingresar letras hasta que se ingrese una vocal.\n",
    "while True:\n",
    "    print 'Ingresar una letra'\n",
    "    digito = str(raw_input())\n",
    "    if digito == 'a' or digito == 'e' or digito == 'i' or digito == 'o' or digito == 'u':\n",
    "        break\n",
    "    else:\n",
    "        continue"
   ]
  }
 ],
 "metadata": {
  "kernelspec": {
   "display_name": "Python 3",
   "language": "python",
   "name": "python3"
  },
  "language_info": {
   "codemirror_mode": {
    "name": "ipython",
    "version": 2
   },
   "file_extension": ".py",
   "mimetype": "text/x-python",
   "name": "python",
   "nbconvert_exporter": "python",
   "pygments_lexer": "ipython2",
   "version": "2.7.15rc1"
  }
 },
 "nbformat": 4,
 "nbformat_minor": 2
}
