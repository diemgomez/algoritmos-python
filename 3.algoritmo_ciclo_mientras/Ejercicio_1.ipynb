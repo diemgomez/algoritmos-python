{
 "cells": [
  {
   "cell_type": "code",
   "execution_count": null,
   "metadata": {},
   "outputs": [],
   "source": [
    "#En una tienda de descuento las personas que van a pagar el importe de su compra llegan a\n",
    "#la caja y sacan una bolita de color, que les dirá que descuento tendrán sobre el total de su\n",
    "#compra. Determinar la cantidad que pagara cada cliente desde que la tienda abre hasta que\n",
    "#cierra. Se sabe que si el color de la bolita es rojo el cliente obtendrá un 40% de descuento;\n",
    "#si es amarilla un 25% y si es blanca no obtendrá descuento."
   ]
  }
 ],
 "metadata": {
  "kernelspec": {
   "display_name": "Python 3",
   "language": "python",
   "name": "python3"
  },
  "language_info": {
   "codemirror_mode": {
    "name": "ipython",
    "version": 2
   },
   "file_extension": ".py",
   "mimetype": "text/x-python",
   "name": "python",
   "nbconvert_exporter": "python",
   "pygments_lexer": "ipython2",
   "version": "2.7.15rc1"
  }
 },
 "nbformat": 4,
 "nbformat_minor": 2
}
