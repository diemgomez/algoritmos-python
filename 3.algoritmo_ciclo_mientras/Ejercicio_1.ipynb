{
 "cells": [
  {
   "cell_type": "code",
   "execution_count": 1,
   "metadata": {},
   "outputs": [
    {
     "name": "stdout",
     "output_type": "stream",
     "text": [
      "Por favor ingresar el valor de su compra: \n",
      "15000\n",
      "Por favor ingresar bolita seleccionada.\n",
      "blanca\n",
      "Estimado cliente, el valor de su compra es: $15000.0 pesos.\n"
     ]
    }
   ],
   "source": [
    "#En una tienda de descuento las personas que van a pagar el importe de su compra llegan a\n",
    "#la caja y sacan una bolita de color, que les dirá que descuento tendrán sobre el total de su\n",
    "#compra. Determinar la cantidad que pagara cada cliente desde que la tienda abre hasta que\n",
    "#cierra. Se sabe que si el color de la bolita es rojo el cliente obtendrá un 40% de descuento;\n",
    "#si es amarilla un 25% y si es blanca no obtendrá descuento.\n",
    "\n",
    "print 'Por favor ingresar el valor de su compra: '\n",
    "valor_compra = float(input())\n",
    "print 'Por favor ingresar bolita seleccionada.'\n",
    "seleccion_bolita = str(raw_input())\n",
    "while True:\n",
    "    if seleccion_bolita == 'rojo' or seleccion_bolita == 'Rojo':\n",
    "        descuento = valor_compra * 0.4\n",
    "        valor_total = valor_compra - descuento\n",
    "        break\n",
    "    elif seleccion_bolita == 'amarilla' or seleccion_bolita == 'Amarilla':\n",
    "        descuento = valor_compra * 0.25\n",
    "        valor_total = valor_compra - descuento\n",
    "        break    \n",
    "    elif seleccion_bolita == 'blanca' or seleccion_bolita == 'Blanca':\n",
    "        valor_total = valor_compra\n",
    "        break        \n",
    "        \n",
    "        \n",
    "print('Estimado cliente, el valor de su compra es: $' + str(valor_total) + ' pesos.')"
   ]
  },
  {
   "cell_type": "code",
   "execution_count": null,
   "metadata": {},
   "outputs": [],
   "source": []
  }
 ],
 "metadata": {
  "kernelspec": {
   "display_name": "Python 3",
   "language": "python",
   "name": "python3"
  },
  "language_info": {
   "codemirror_mode": {
    "name": "ipython",
    "version": 2
   },
   "file_extension": ".py",
   "mimetype": "text/x-python",
   "name": "python",
   "nbconvert_exporter": "python",
   "pygments_lexer": "ipython2",
   "version": "2.7.15rc1"
  }
 },
 "nbformat": 4,
 "nbformat_minor": 2
}
