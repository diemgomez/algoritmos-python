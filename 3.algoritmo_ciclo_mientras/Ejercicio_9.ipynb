{
 "cells": [
  {
   "cell_type": "code",
   "execution_count": null,
   "metadata": {},
   "outputs": [],
   "source": [
    "#Un censador recopila ciertos datos aplicando encuestas para el último Censo Nacional\n",
    "#de Población y Vivienda. Desea obtener de todas las personas que alcance a encuestar en un\n",
    "#día, que porcentaje tiene estudios de primaria, secundaria, carrera técnica, estudios\n",
    "#profesionales y estudios de posgrado."
   ]
  }
 ],
 "metadata": {
  "kernelspec": {
   "display_name": "Python 3",
   "language": "python",
   "name": "python3"
  },
  "language_info": {
   "codemirror_mode": {
    "name": "ipython",
    "version": 2
   },
   "file_extension": ".py",
   "mimetype": "text/x-python",
   "name": "python",
   "nbconvert_exporter": "python",
   "pygments_lexer": "ipython2",
   "version": "2.7.15rc1"
  }
 },
 "nbformat": 4,
 "nbformat_minor": 2
}
