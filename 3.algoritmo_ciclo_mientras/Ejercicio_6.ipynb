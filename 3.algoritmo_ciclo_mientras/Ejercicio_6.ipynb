{
 "cells": [
  {
   "cell_type": "code",
   "execution_count": null,
   "metadata": {},
   "outputs": [],
   "source": [
    "#En una granja se requiere saber alguna información para determinar el precio de\n",
    "#venta por cada kilo de huevo. Es importante determinar el promedio de calidad de las n\n",
    "#gallinas que hay en la granja. La calidad de cada gallina se obtiene según la fórmula:\n",
    "\n",
    "#Calidad = Peso de la gallina(kg) * Altura de la gallina(cm) / Numero de huevos que pone(mensual)\n",
    "\n",
    "#Finalmente, para fijar el precio del kilo de huevo, se toma como base la siguiente tabla\n",
    "\n",
    "#TOTAL DE CALIDAD                       PESO POR KILO DE HUEVO\n",
    "#Mayor o igual que 15               1.2 * promedio calidad de gallina\n",
    "#Mayor que 8 y menor que 15      1.00 * promedio de calidad de gallina\n",
    "#Menor o igual que 8             0.80 * promedio de calidad de gallina"
   ]
  }
 ],
 "metadata": {
  "kernelspec": {
   "display_name": "Python 3",
   "language": "python",
   "name": "python3"
  },
  "language_info": {
   "codemirror_mode": {
    "name": "ipython",
    "version": 2
   },
   "file_extension": ".py",
   "mimetype": "text/x-python",
   "name": "python",
   "nbconvert_exporter": "python",
   "pygments_lexer": "ipython2",
   "version": "2.7.15rc1"
  }
 },
 "nbformat": 4,
 "nbformat_minor": 2
}
