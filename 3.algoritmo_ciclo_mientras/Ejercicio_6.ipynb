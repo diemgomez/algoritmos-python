{
 "cells": [
  {
   "cell_type": "code",
   "execution_count": null,
   "metadata": {},
   "outputs": [],
   "source": [
    "#En una granja se requiere saber alguna información para determinar el precio de\n",
    "#venta por cada kilo de huevo. Es importante determinar el promedio de calidad de las n\n",
    "#gallinas que hay en la granja. La calidad de cada gallina se obtiene según la fórmula:\n",
    "\n",
    "#Calidad = Peso de la gallina(kg) * Altura de la gallina(cm) / Numero de huevos que pone(mensual)\n",
    "\n",
    "#Finalmente, para fijar el precio del kilo de huevo, se toma como base la siguiente tabla\n",
    "\n",
    "#TOTAL DE CALIDAD                       PESO POR KILO DE HUEVO\n",
    "#Mayor o igual que 15               1.2 * promedio calidad de gallina\n",
    "#Mayor que 8 y menor que 15      1.00 * promedio de calidad de gallina\n",
    "#Menor o igual que 8             0.80 * promedio de calidad de gallina\n",
    "calidad_gallina = 0\n",
    "promedio_calidad = 0\n",
    "i = 0\n",
    "print 'por favor ingresar la cantidad de gallina a inventariar:'\n",
    "cantidad_gallinas = float(input())\n",
    "while i < cantidad_gallinas:\n",
    "    i = i + 1\n",
    "    print 'Peso en (kg): '\n",
    "    peso_kg = float(input())\n",
    "    print 'Altura en (cm): '\n",
    "    altura_cm = float(input())\n",
    "    print 'Cuantos huevos coloca al mes: '\n",
    "    cant_huevos_mes = int(input())\n",
    "    calidad_gallina = peso_kg * altura_cm / cant_huevos_mes\n",
    "    if calidad_gallina >= 15:\n",
    "        promedio_calidad = 1.2 * calidad_gallina\n",
    "    elif calidad_gallina > 8 and calidad_gallina < 15:\n",
    "        promedio_calidad = 1.00 * calidad_gallina\n",
    "    else: \n",
    "        promedio_calidad = 0.80 * calidad_gallina\n",
    "    print 'El promedio de la calidad de la gallina es: ' + str(promedio_calidad)\n",
    "    \n",
    "    print \"Desea ingresar los valores de otra gallina?\"\n",
    "    opcion = str(raw_input())\n",
    "    if opcion == \"SI\" or opcion = \"si\" or opcion = \"Si\":\n",
    "        continue\n",
    "    else:\n",
    "        break"
   ]
  },
  {
   "cell_type": "code",
   "execution_count": null,
   "metadata": {},
   "outputs": [],
   "source": []
  }
 ],
 "metadata": {
  "kernelspec": {
   "display_name": "Python 3",
   "language": "python",
   "name": "python3"
  },
  "language_info": {
   "codemirror_mode": {
    "name": "ipython",
    "version": 2
   },
   "file_extension": ".py",
   "mimetype": "text/x-python",
   "name": "python",
   "nbconvert_exporter": "python",
   "pygments_lexer": "ipython2",
   "version": "2.7.15rc1"
  }
 },
 "nbformat": 4,
 "nbformat_minor": 2
}
