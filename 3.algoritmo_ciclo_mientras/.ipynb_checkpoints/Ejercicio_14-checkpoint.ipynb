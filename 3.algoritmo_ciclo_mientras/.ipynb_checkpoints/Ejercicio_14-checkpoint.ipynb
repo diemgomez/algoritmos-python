{
 "cells": [
  {
   "cell_type": "code",
   "execution_count": null,
   "metadata": {},
   "outputs": [],
   "source": [
    "#Leer por cada alumno de Diseño estructurado de algoritmos su número de control y\n",
    "#su calificación en cada una de las 5 unidades de la materia. Al final que escriba el número de\n",
    "#control del alumno que obtuvo mayor promedio. Suponga que los alumnos tienen diferentes\n",
    "#promedios."
   ]
  }
 ],
 "metadata": {
  "kernelspec": {
   "display_name": "Python 3",
   "language": "python",
   "name": "python3"
  },
  "language_info": {
   "codemirror_mode": {
    "name": "ipython",
    "version": 2
   },
   "file_extension": ".py",
   "mimetype": "text/x-python",
   "name": "python",
   "nbconvert_exporter": "python",
   "pygments_lexer": "ipython2",
   "version": "2.7.15rc1"
  }
 },
 "nbformat": 4,
 "nbformat_minor": 2
}
