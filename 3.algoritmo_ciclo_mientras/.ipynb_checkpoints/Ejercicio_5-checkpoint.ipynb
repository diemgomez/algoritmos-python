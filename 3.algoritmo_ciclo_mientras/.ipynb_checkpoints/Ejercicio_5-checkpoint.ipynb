{
 "cells": [
  {
   "cell_type": "code",
   "execution_count": 1,
   "metadata": {},
   "outputs": [
    {
     "name": "stdout",
     "output_type": "stream",
     "text": [
      "Ingresar nombre completo\n",
      "Henry\n",
      "Cantidad de horas laboradas en la semana\n",
      "44\n",
      "El empleado Henry realizó lo siguiente en esta semana.\n",
      "40 horas normales\n",
      "Horas extras dobles: 4.0.\n",
      "Desea ingresar los datos de otro empleado:\n"
     ]
    },
    {
     "ename": "KeyboardInterrupt",
     "evalue": "",
     "output_type": "error",
     "traceback": [
      "\u001b[0;31m---------------------------------------------------------------------------\u001b[0m",
      "\u001b[0;31mKeyboardInterrupt\u001b[0m                         Traceback (most recent call last)",
      "\u001b[0;32m<ipython-input-1-6a7af1cb6ea2>\u001b[0m in \u001b[0;36m<module>\u001b[0;34m()\u001b[0m\n\u001b[1;32m     33\u001b[0m \u001b[0;34m\u001b[0m\u001b[0m\n\u001b[1;32m     34\u001b[0m     \u001b[0;32mprint\u001b[0m \u001b[0;34m'Desea ingresar los datos de otro empleado:'\u001b[0m\u001b[0;34m\u001b[0m\u001b[0m\n\u001b[0;32m---> 35\u001b[0;31m     \u001b[0mopcion\u001b[0m \u001b[0;34m=\u001b[0m \u001b[0mstr\u001b[0m\u001b[0;34m(\u001b[0m\u001b[0mraw_input\u001b[0m\u001b[0;34m(\u001b[0m\u001b[0;34m)\u001b[0m\u001b[0;34m)\u001b[0m\u001b[0;34m\u001b[0m\u001b[0m\n\u001b[0m\u001b[1;32m     36\u001b[0m     \u001b[0;32mif\u001b[0m \u001b[0mopcion\u001b[0m \u001b[0;34m==\u001b[0m \u001b[0;34m\"SI\"\u001b[0m \u001b[0;32mor\u001b[0m \u001b[0mopcion\u001b[0m \u001b[0;34m==\u001b[0m \u001b[0;34m\"Si\"\u001b[0m \u001b[0;32mor\u001b[0m \u001b[0mopcion\u001b[0m \u001b[0;34m==\u001b[0m \u001b[0;34m\"si\"\u001b[0m\u001b[0;34m:\u001b[0m\u001b[0;34m\u001b[0m\u001b[0m\n\u001b[1;32m     37\u001b[0m         \u001b[0;32mcontinue\u001b[0m\u001b[0;34m\u001b[0m\u001b[0m\n",
      "\u001b[0;32m/home/zemog/.local/lib/python2.7/site-packages/ipykernel/kernelbase.pyc\u001b[0m in \u001b[0;36mraw_input\u001b[0;34m(self, prompt)\u001b[0m\n\u001b[1;32m    702\u001b[0m             \u001b[0mself\u001b[0m\u001b[0;34m.\u001b[0m\u001b[0m_parent_ident\u001b[0m\u001b[0;34m,\u001b[0m\u001b[0;34m\u001b[0m\u001b[0m\n\u001b[1;32m    703\u001b[0m             \u001b[0mself\u001b[0m\u001b[0;34m.\u001b[0m\u001b[0m_parent_header\u001b[0m\u001b[0;34m,\u001b[0m\u001b[0;34m\u001b[0m\u001b[0m\n\u001b[0;32m--> 704\u001b[0;31m             \u001b[0mpassword\u001b[0m\u001b[0;34m=\u001b[0m\u001b[0mFalse\u001b[0m\u001b[0;34m,\u001b[0m\u001b[0;34m\u001b[0m\u001b[0m\n\u001b[0m\u001b[1;32m    705\u001b[0m         )\n\u001b[1;32m    706\u001b[0m \u001b[0;34m\u001b[0m\u001b[0m\n",
      "\u001b[0;32m/home/zemog/.local/lib/python2.7/site-packages/ipykernel/kernelbase.pyc\u001b[0m in \u001b[0;36m_input_request\u001b[0;34m(self, prompt, ident, parent, password)\u001b[0m\n\u001b[1;32m    732\u001b[0m             \u001b[0;32mexcept\u001b[0m \u001b[0mKeyboardInterrupt\u001b[0m\u001b[0;34m:\u001b[0m\u001b[0;34m\u001b[0m\u001b[0m\n\u001b[1;32m    733\u001b[0m                 \u001b[0;31m# re-raise KeyboardInterrupt, to truncate traceback\u001b[0m\u001b[0;34m\u001b[0m\u001b[0;34m\u001b[0m\u001b[0m\n\u001b[0;32m--> 734\u001b[0;31m                 \u001b[0;32mraise\u001b[0m \u001b[0mKeyboardInterrupt\u001b[0m\u001b[0;34m\u001b[0m\u001b[0m\n\u001b[0m\u001b[1;32m    735\u001b[0m             \u001b[0;32melse\u001b[0m\u001b[0;34m:\u001b[0m\u001b[0;34m\u001b[0m\u001b[0m\n\u001b[1;32m    736\u001b[0m                 \u001b[0;32mbreak\u001b[0m\u001b[0;34m\u001b[0m\u001b[0m\n",
      "\u001b[0;31mKeyboardInterrupt\u001b[0m: "
     ]
    }
   ],
   "source": [
    "#Determinar la cantidad semanal de dinero que recibirá cada uno de los n obreros de\n",
    "#una empresa. Se sabe que cuando las horas que trabajo un obrero exceden de 40, el resto se\n",
    "#convierte en horas extras que se pagan al doble de una hora normal, cuando no exceden de 8;\n",
    "#cuando las horas extras exceden de 8 se pagan las primeras 8 al doble de lo que se paga por\n",
    "#una hora normal y el resto al triple.\n",
    "while True:\n",
    "    print 'Ingresar nombre completo'\n",
    "    nombre_completo = str(raw_input())\n",
    "    print 'Cantidad de horas laboradas en la semana'\n",
    "    cantidad_horas = float(input())\n",
    "    if cantidad_horas > 40:\n",
    "        horas_extras = cantidad_horas - 40\n",
    "        \n",
    "        if horas_extras <= 8:\n",
    "            horas_extras_dobles = horas_extras \n",
    "            print 'El empleado ' + str(nombre_completo) + ' realizó lo siguiente en esta semana.'\n",
    "            print '40 horas normales'\n",
    "            print 'Horas extras dobles: ' + str(horas_extras_dobles) + '.'\n",
    "            \n",
    "        elif horas_extras > 8:\n",
    "            horas_extras_tiples = horas_extras - 8\n",
    "            horas_extras_dobles = 8\n",
    "            print 'El empleado ' + str(nombre_completo) + ' realizó lo siguiente en esta semana.'\n",
    "            print '40 horas normales'\n",
    "            print 'Horas extras dobles: ' + str(horas_extras_dobles) + '.'\n",
    "            print 'Horas extras triples: ' + str(horas_extras_tiples) + '.'\n",
    "            \n",
    "    else:\n",
    "        print 'El empleado ' + str(nombre_completo) + ' no tiene horas extras.'\n",
    "        print 'Realizó ' + str(cantidad_horas) + ' horas normales.'\n",
    "            \n",
    "\n",
    "            \n",
    "    print 'Desea ingresar los datos de otro empleado:'\n",
    "    opcion = str(raw_input())\n",
    "    if opcion == \"SI\" or opcion == \"Si\" or opcion == \"si\":\n",
    "        continue\n",
    "    else: \n",
    "        break"
   ]
  },
  {
   "cell_type": "code",
   "execution_count": null,
   "metadata": {},
   "outputs": [],
   "source": []
  }
 ],
 "metadata": {
  "kernelspec": {
   "display_name": "Python 3",
   "language": "python",
   "name": "python3"
  },
  "language_info": {
   "codemirror_mode": {
    "name": "ipython",
    "version": 2
   },
   "file_extension": ".py",
   "mimetype": "text/x-python",
   "name": "python",
   "nbconvert_exporter": "python",
   "pygments_lexer": "ipython2",
   "version": "2.7.15rc1"
  }
 },
 "nbformat": 4,
 "nbformat_minor": 2
}
