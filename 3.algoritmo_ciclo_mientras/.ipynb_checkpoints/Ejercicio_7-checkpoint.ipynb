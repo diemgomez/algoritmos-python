{
 "cells": [
  {
   "cell_type": "code",
   "execution_count": null,
   "metadata": {},
   "outputs": [],
   "source": [
    "#En la Cámara de Diputados se levanta una encuesta con todos los integrantes con el\n",
    "#fin de determinar qué porcentaje de los n diputados está a favor del Tratado de Libre\n",
    "#Comercio, que porcentaje está en contra y que porcentaje se abstiene de opinar.\n",
    "contador_si = 0\n",
    "contador_no = 0\n",
    "contador_na = 0\n",
    "while True:\n",
    "    print 'Señor diputado, ¿Usted está de acuerdo con el Tratado de Libre Comercio?'\n",
    "    opcion = str(raw_input())\n",
    "    if opcion == 'Si' or opcion == 'si':\n",
    "        contador_si = contador_si + 1\n",
    "    elif opcion == 'No' or opcion == 'no':\n",
    "        contador_no = contador_no + 1\n",
    "    else:\n",
    "        contador_na = contador_na + 1\n",
    "    print 'Desea ingresar otro voto?'\n",
    "    seleccion = str(raw_input())\n",
    "    if seleccion == 'Si' or seleccion == 'si':\n",
    "        continue\n",
    "    else:\n",
    "        break\n",
    "print 'A continuacion se dará a conocer los resultados:'\n",
    "print 'Personas a favor: ' + str(contador_si)\n",
    "print 'Personas en contra: ' + str(contador_no)\n",
    "print 'Personas que se abtienen: ' + str(contador_na)"
   ]
  },
  {
   "cell_type": "code",
   "execution_count": null,
   "metadata": {},
   "outputs": [],
   "source": []
  }
 ],
 "metadata": {
  "kernelspec": {
   "display_name": "Python 2",
   "language": "python",
   "name": "python2"
  },
  "language_info": {
   "codemirror_mode": {
    "name": "ipython",
    "version": 2
   },
   "file_extension": ".py",
   "mimetype": "text/x-python",
   "name": "python",
   "nbconvert_exporter": "python",
   "pygments_lexer": "ipython2",
   "version": "2.7.15rc1"
  }
 },
 "nbformat": 4,
 "nbformat_minor": 2
}
