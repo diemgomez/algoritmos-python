{
 "cells": [
  {
   "cell_type": "code",
   "execution_count": null,
   "metadata": {},
   "outputs": [],
   "source": [
    "#Un jefe de casilla desea determinar cuántas personas de cada una de las secciones que\n",
    "#componen su zona asisten el día de las votaciones. Las secciones son: norte, sur y centro.\n",
    "#También desea determinar cuál es la sección con mayor número de votantes.\n",
    "norte = 0\n",
    "sur = 0\n",
    "centro = 0\n",
    "total = 0\n",
    "print 'Bienvenidos a las votaciones'\n",
    "while True:\n",
    "    print 'De que seccion pertenece?'\n",
    "    tipo_seccion = str(raw_input())\n",
    "    \n",
    "    if tipo_seccion == 'NORTE' or tipo_seccion == 'norte' or tipo_seccion == 'Norte':\n",
    "        norte = norte + 1\n",
    "    elif tipo_seccion == 'SUR' or tipo_seccion == 'Sur' or tipo_seccion == 'sur':\n",
    "        sur = sur + 1\n",
    "    elif tipo_seccion == 'CENTRO' or tipo_seccion == 'Centro' or tipo_seccion == 'centro':\n",
    "        centro = centro + 1\n",
    "    #Formula para el total de votantes\n",
    "    total = norte + sur + centro\n",
    "    #Variable con el método de maximo numero\n",
    "    valor_maximo = max(norte, sur, centro)\n",
    "        \n",
    "    print 'Desea ingresar otro valor?'\n",
    "    eleccion = str(raw_input())\n",
    "    if eleccion == 'Si' or eleccion == 'SI' or eleccion == 'si':\n",
    "        continue\n",
    "    else:\n",
    "        break\n",
    "        \n",
    "if valor_maximo == norte:\n",
    "    print 'El numero mayor de votante es del norte'\n",
    "elif valor_maximo == sur:\n",
    "    print 'El numero mayor de votante es del sur'\n",
    "elif valor_maximo == centro:\n",
    "    print 'El numero mayor de votante es del centro'\n",
    "    \n",
    "print 'El total de votantes es: ' + str(total) + '.'\n",
    "        \n",
    "     \n",
    "        "
   ]
  },
  {
   "cell_type": "code",
   "execution_count": null,
   "metadata": {},
   "outputs": [],
   "source": []
  }
 ],
 "metadata": {
  "kernelspec": {
   "display_name": "Python 3",
   "language": "python",
   "name": "python3"
  },
  "language_info": {
   "codemirror_mode": {
    "name": "ipython",
    "version": 2
   },
   "file_extension": ".py",
   "mimetype": "text/x-python",
   "name": "python",
   "nbconvert_exporter": "python",
   "pygments_lexer": "ipython2",
   "version": "2.7.15rc1"
  }
 },
 "nbformat": 4,
 "nbformat_minor": 2
}
