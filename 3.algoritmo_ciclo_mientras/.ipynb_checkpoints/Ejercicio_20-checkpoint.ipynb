{
 "cells": [
  {
   "cell_type": "code",
   "execution_count": null,
   "metadata": {},
   "outputs": [],
   "source": [
    "#Elaborar un algoritmo que muestre un menú de la siguiente manera:\n",
    "#a. Ingresar dos números.\n",
    "#b. Sumar.\n",
    "#c. Restar.\n",
    "#d. Multiplicar.\n",
    "#e. Dividir.\n",
    "#f. Cubo.\n",
    "#g. Cuarta.\n",
    "#h. Raíz Cuadrada.\n",
    "#i. Salir."
   ]
  }
 ],
 "metadata": {
  "kernelspec": {
   "display_name": "Python 3",
   "language": "python",
   "name": "python3"
  },
  "language_info": {
   "codemirror_mode": {
    "name": "ipython",
    "version": 2
   },
   "file_extension": ".py",
   "mimetype": "text/x-python",
   "name": "python",
   "nbconvert_exporter": "python",
   "pygments_lexer": "ipython2",
   "version": "2.7.15rc1"
  }
 },
 "nbformat": 4,
 "nbformat_minor": 2
}
