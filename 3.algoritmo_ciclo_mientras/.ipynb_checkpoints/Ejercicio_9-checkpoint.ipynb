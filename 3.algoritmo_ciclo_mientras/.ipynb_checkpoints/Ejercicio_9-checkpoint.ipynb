{
 "cells": [
  {
   "cell_type": "code",
   "execution_count": null,
   "metadata": {},
   "outputs": [],
   "source": [
    "#Un censador recopila ciertos datos aplicando encuestas para el último Censo Nacional\n",
    "#de Población y Vivienda. Desea obtener de todas las personas que alcance a encuestar en un\n",
    "#día, que porcentaje tiene estudios de primaria, secundaria, carrera técnica, estudios\n",
    "#profesionales y estudios de posgrado.\n",
    "primaria = 0\n",
    "secundaria = 0\n",
    "tecnica = 0\n",
    "pregrado = 0\n",
    "postgrado = 0\n",
    "\n",
    "print 'Bienvenidos al Censo Nacional de Poblacion y Vivienda'\n",
    "while True:\n",
    "    print 'Que nivel de estudio tiene?'\n",
    "    print 'Primaria'\n",
    "    print 'Secundaria'\n",
    "    print 'Tecnica'\n",
    "    print 'Pregrado'\n",
    "    print 'Postgrado'\n",
    "    nivel_estudio = str(raw_input())\n",
    "\n",
    "    if nivel_estudio == 'primaria' or nivel_estudio == 'PRIMARIA' or nivel_estudio == 'Primaria':\n",
    "        primaria = primaria + 1\n",
    "    elif nivel_estudio == 'SECUNDARIA' or nivel_estudio == 'secundaria' or nivel_estudio == 'Secundaria':\n",
    "        secundaria = secundaria + 1\n",
    "    elif nivel_estudio == 'tecnica' or nivel_estudio == 'TECNICA' or nivel_estudio == 'Tecnica':\n",
    "        tecnica = tecnica + 1\n",
    "    elif nivel_estudio == 'Pregrado' or nivel_estudio == 'PREGRADO' or nivel_estudio == 'pregrado':\n",
    "        pregrado = pregrado + 1\n",
    "    elif nivel_estudio == 'postgrado' or nivel_estudio == 'POSTGRADO' or nivel_estudio == 'Postgrado':\n",
    "        postgrado = postgrado + 1\n",
    "\n",
    "    print 'Desea ingresar otro dato?'\n",
    "    seleccion_opcion = str(raw_input())\n",
    "    if seleccion_opcion == \"SI\" or seleccion_opcion == \"si\" or seleccion_opcion == \"Si\":\n",
    "        continue\n",
    "    else:\n",
    "        break\n",
    "print 'Los datos arrojados de la encuesta son: '\n",
    "print 'Total de poblacion con estudio en primaria: ' + str(primaria)\n",
    "print 'Total de poblacion con estudio en secundaria: ' + str(secundaria)\n",
    "print 'Total de poblacion con estudio en tecnica: ' + str(tecnica)\n",
    "print 'Total de poblacion con estudio en pregrado: ' + str(pregrado)\n",
    "print 'Total de poblacion con estudio en postgrado: ' + str(postgrado)"
   ]
  },
  {
   "cell_type": "code",
   "execution_count": null,
   "metadata": {},
   "outputs": [],
   "source": []
  }
 ],
 "metadata": {
  "kernelspec": {
   "display_name": "Python 3",
   "language": "python",
   "name": "python3"
  },
  "language_info": {
   "codemirror_mode": {
    "name": "ipython",
    "version": 2
   },
   "file_extension": ".py",
   "mimetype": "text/x-python",
   "name": "python",
   "nbconvert_exporter": "python",
   "pygments_lexer": "ipython2",
   "version": "2.7.15rc1"
  }
 },
 "nbformat": 4,
 "nbformat_minor": 2
}
