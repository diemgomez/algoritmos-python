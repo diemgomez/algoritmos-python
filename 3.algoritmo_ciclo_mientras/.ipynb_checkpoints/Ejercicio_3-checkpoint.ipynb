{
 "cells": [
  {
   "cell_type": "code",
   "execution_count": 1,
   "metadata": {},
   "outputs": [
    {
     "name": "stdout",
     "output_type": "stream",
     "text": [
      "Bienvenidos al teatro\n",
      "Por favor ingresar edad:\n",
      "18\n",
      "Desea ingresar otro cliente:\n",
      "si\n",
      "Por favor ingresar edad:\n",
      "19\n",
      "Desea ingresar otro cliente:\n",
      "si\n",
      "Por favor ingresar edad:\n",
      "38\n",
      "Desea ingresar otro cliente:\n",
      "no\n",
      "Estimado administrador el total de descuento hecho el dia de hoy es: 20.0sobre los 3 clientes.\n"
     ]
    }
   ],
   "source": [
    "#Un teatro otorga descuentos según la edad del cliente. determinar la cantidad de dinero que\n",
    "#el teatro deja de percibir por cada una de las categorías. Tomar en cuenta que los niños\n",
    "#menores de 5 años no pueden entrar al teatro y que existe un precio único en los\n",
    "#asientos. Los descuentos se hacen tomando en cuenta el siguiente cuadro:\n",
    "#               Edad    Descuento\n",
    "#Categoría 1   5 - 14     35 %\n",
    "#Categoría 2  15 - 19     25 %\n",
    "#Categoría 3  20 - 45     10 %\n",
    "#Categoría 4  46 - 65     25 %\n",
    "#Categoría 5  66. en adelante35 %\n",
    "\n",
    "total_descuento = 0\n",
    "unidad_cliente = 0\n",
    "edad = 0\n",
    "unidad_cliente = 0\n",
    "total_clientes = 0\n",
    "promedio = 0\n",
    "\n",
    "print 'Bienvenidos al teatro'\n",
    "while True:\n",
    "    print 'Por favor ingresar edad:'\n",
    "    edad = int(input())\n",
    "    unidad_cliente = edad / edad\n",
    "    \n",
    "    if edad >= 5 and edad <= 15:\n",
    "        descuento = 0.35\n",
    "    elif edad >= 15 and edad <= 19:\n",
    "        descuento = 0.25\n",
    "    elif edad >= 20 and edad <= 45:\n",
    "        descuento = 0.10\n",
    "    elif edad >= 46 and edad <= 65:\n",
    "        descuento = 0.25\n",
    "    total_descuento = total_descuento + descuento \n",
    "    total_clientes = total_clientes + unidad_cliente\n",
    "    promedio = (total_descuento / total_clientes)*100\n",
    "    print 'Desea ingresar otro cliente:'\n",
    "    opcion = str(raw_input())\n",
    "    if opcion == 'Si' or opcion == 'SI' or opcion == 'si':\n",
    "        continue\n",
    "    else: \n",
    "        break\n",
    "print('Estimado administrador el total de descuento hecho el dia de hoy es: '+ str(promedio) + ' sobre los ' + str(total_clientes) + ' clientes.')"
   ]
  },
  {
   "cell_type": "code",
   "execution_count": null,
   "metadata": {},
   "outputs": [],
   "source": []
  }
 ],
 "metadata": {
  "kernelspec": {
   "display_name": "Python 3",
   "language": "python",
   "name": "python3"
  },
  "language_info": {
   "codemirror_mode": {
    "name": "ipython",
    "version": 2
   },
   "file_extension": ".py",
   "mimetype": "text/x-python",
   "name": "python",
   "nbconvert_exporter": "python",
   "pygments_lexer": "ipython2",
   "version": "2.7.15rc1"
  }
 },
 "nbformat": 4,
 "nbformat_minor": 2
}
