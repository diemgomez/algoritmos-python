{
 "cells": [
  {
   "cell_type": "code",
   "execution_count": null,
   "metadata": {},
   "outputs": [],
   "source": [
    "#Un teatro otorga descuentos según la edad del cliente. determinar la cantidad de dinero que\n",
    "#el teatro deja de percibir por cada una de las categorías. Tomar en cuenta que los niños\n",
    "#menores de 5 años no pueden entrar al teatro y que existe un precio único en los\n",
    "#asientos. Los descuentos se hacen tomando en cuenta el siguiente cuadro:\n",
    "#               Edad    Descuento\n",
    "#Categoría 1   5 - 14     35 %\n",
    "#Categoría 2  15 - 19     25 %\n",
    "#Categoría 3  20 - 45     10 %\n",
    "#Categoría 4  46 - 65     25 %\n",
    "#Categoría 5  66. en adelante35 %"
   ]
  }
 ],
 "metadata": {
  "kernelspec": {
   "display_name": "Python 3",
   "language": "python",
   "name": "python3"
  },
  "language_info": {
   "codemirror_mode": {
    "name": "ipython",
    "version": 2
   },
   "file_extension": ".py",
   "mimetype": "text/x-python",
   "name": "python",
   "nbconvert_exporter": "python",
   "pygments_lexer": "ipython2",
   "version": "2.7.15rc1"
  }
 },
 "nbformat": 4,
 "nbformat_minor": 2
}
