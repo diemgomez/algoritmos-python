{
 "cells": [
  {
   "cell_type": "code",
   "execution_count": null,
   "metadata": {},
   "outputs": [],
   "source": [
    "#Una persona que va de compras a la tienda “Enano, S.A.”, decide llevar un control\n",
    "#sobre lo que va comprando, para saber la cantidad de dinero que tendrá que pagar al llegar a\n",
    "#la caja. La tienda tiene una promoción del 20% de descuento sobre aquellos artículos cuya\n",
    "#etiqueta sea roja. Determinar la cantidad de dinero que esta persona deberá pagar.\n",
    "precio_total = 0\n",
    "while True:\n",
    "    print 'Cual es el valor del producto?'\n",
    "    precio = float(input())\n",
    "    print 'Que tipo de etiqueta tiene?(roja/blanca)'\n",
    "    tipo_etiqueta = str(raw_input())\n",
    "    if tipo_etiqueta == 'Roja' or tipo_etiqueta == 'roja':\n",
    "        precio = precio * 0.8\n",
    "        \n",
    "    precio_total = precio_total + precio \n",
    "    print 'Desea ingresar otro producto?'\n",
    "    opcion = str(raw_input())\n",
    "    if opcion == \"Si\" or opcion == \"si\":\n",
    "        continue\n",
    "    else:\n",
    "        break\n",
    "print 'El costo total de los productos a comprar es: ' + str(precio_total) + ' pesos:'"
   ]
  }
 ],
 "metadata": {
  "kernelspec": {
   "display_name": "Python 3",
   "language": "python",
   "name": "python3"
  },
  "language_info": {
   "codemirror_mode": {
    "name": "ipython",
    "version": 2
   },
   "file_extension": ".py",
   "mimetype": "text/x-python",
   "name": "python",
   "nbconvert_exporter": "python",
   "pygments_lexer": "ipython2",
   "version": "2.7.15rc1"
  }
 },
 "nbformat": 4,
 "nbformat_minor": 2
}
