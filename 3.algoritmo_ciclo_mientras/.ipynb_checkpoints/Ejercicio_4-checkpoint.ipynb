{
 "cells": [
  {
   "cell_type": "code",
   "execution_count": null,
   "metadata": {},
   "outputs": [],
   "source": [
    "#La presión, volumen y temperatura de una masa de aire se relacionan por la fórmula:\n",
    "#Masa = Presión * Volumen / 0.37 (Temperatura + 460)\n",
    "#Calcular el promedio de masa de aire de los neumáticos de n vehículos que están en\n",
    "#compostura en un servicio de alineación y balanceo. Los vehículos pueden ser\n",
    "#motocicletas o automóviles.\n",
    "masa = 0.0\n",
    "masa_motocicleta = 0\n",
    "unidad_motocicleta = 0\n",
    "promedio_motocicleta = 0\n",
    "masa_carro = 0\n",
    "unidad_carro = 0\n",
    "promedio_carro = 0\n",
    "\n",
    "print 'Bienvenidos a la unidad de balaceo de nuematicos'\n",
    "while True:\n",
    "    print 'Por favor ingresar valor de temperatura: '\n",
    "    valor_temperatura = float(input())\n",
    "    print 'Por favor ingresar valor de presion: '\n",
    "    valor_presion = float(input())\n",
    "    print 'Por favor ingresar valor de volumen: '\n",
    "    valor_volumen = float(input())\n",
    "    masa = (valor_presion * valor_volumen) / (0.37*(valor_temperatura + 460)) \n",
    "    \n",
    "    print 'Por favor ingresar el tipo de vehiculo'\n",
    "    tipo_vehiculo = str(raw_input())\n",
    "    if tipo_vehiculo == 'motocicleta' or tipo_vehiculo == 'Motocicleta' or tipo_vehiculo == 'MOTOCICLETA':\n",
    "        masa_motocicleta = masa_motocicleta + masa\n",
    "        unidad_motocicleta = masa / masa\n",
    "        promedio_motocicleta = masa_motocicleta / unidad_motocicleta   \n",
    "    \n",
    "    elif tipo_vehiculo == 'carro' or tipo_vehiculo == 'CARRO' or tipo_vehiculo == 'Carro':\n",
    "        masa_carro = masa_carro + masa \n",
    "        unidad_carro = masa / masa\n",
    "        promedio_carro = masa_carro / unidad_carro\n",
    "    \n",
    "    print 'Desea ingresar otra serie de valores:'\n",
    "    opcion = str(raw_input())\n",
    "    if opcion == 'Si' or opcion == 'SI' or opcion == 'si':\n",
    "        continue\n",
    "    else:\n",
    "        break\n",
    "        \n",
    "print 'El promedio de masa de las motocicletas es: ' + str(masa_motocicleta) + '.'\n",
    "print 'Fueron un total de: ' + str(unidad_motocicleta) + ' motocicletas balanceadas.'\n",
    "\n",
    "print 'El promedio de masa de lo(s) carro(s) es: ' + str(masa_carro) + '.'\n",
    "print 'Fueron un total de: ' + str(unidad_carro) + ' carros balanceados.'"
   ]
  },
  {
   "cell_type": "code",
   "execution_count": null,
   "metadata": {},
   "outputs": [],
   "source": []
  }
 ],
 "metadata": {
  "kernelspec": {
   "display_name": "Python 3",
   "language": "python",
   "name": "python3"
  },
  "language_info": {
   "codemirror_mode": {
    "name": "ipython",
    "version": 2
   },
   "file_extension": ".py",
   "mimetype": "text/x-python",
   "name": "python",
   "nbconvert_exporter": "python",
   "pygments_lexer": "ipython2",
   "version": "2.7.15rc1"
  }
 },
 "nbformat": 4,
 "nbformat_minor": 2
}
