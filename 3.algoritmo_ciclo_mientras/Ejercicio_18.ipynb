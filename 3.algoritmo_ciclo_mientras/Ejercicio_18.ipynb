{
 "cells": [
  {
   "cell_type": "code",
   "execution_count": null,
   "metadata": {},
   "outputs": [],
   "source": [
    "#Suponga que tiene usted una tienda y desea registrar las ventas en su computadora.\n",
    "#Diseñe un algoritmo que lea por cada cliente, el monto total de su compra. Al final del día\n",
    "#que escriba la cantidad total de ventas y el número de clientes atendidos."
   ]
  }
 ],
 "metadata": {
  "kernelspec": {
   "display_name": "Python 3",
   "language": "python",
   "name": "python3"
  },
  "language_info": {
   "codemirror_mode": {
    "name": "ipython",
    "version": 2
   },
   "file_extension": ".py",
   "mimetype": "text/x-python",
   "name": "python",
   "nbconvert_exporter": "python",
   "pygments_lexer": "ipython2",
   "version": "2.7.15rc1"
  }
 },
 "nbformat": 4,
 "nbformat_minor": 2
}
