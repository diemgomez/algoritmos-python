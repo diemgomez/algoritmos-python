{
 "cells": [
  {
   "cell_type": "code",
   "execution_count": null,
   "metadata": {},
   "outputs": [],
   "source": [
    "#Una persona que va de compras a la tienda “Enano, S.A.”, decide llevar un control\n",
    "#sobre lo que va comprando, para saber la cantidad de dinero que tendrá que pagar al llegar a\n",
    "#la caja. La tienda tiene una promoción del 20% de descuento sobre aquellos artículos cuya\n",
    "#etiqueta sea roja. Determinar la cantidad de dinero que esta persona deberá pagar."
   ]
  }
 ],
 "metadata": {
  "kernelspec": {
   "display_name": "Python 3",
   "language": "python",
   "name": "python3"
  },
  "language_info": {
   "codemirror_mode": {
    "name": "ipython",
    "version": 2
   },
   "file_extension": ".py",
   "mimetype": "text/x-python",
   "name": "python",
   "nbconvert_exporter": "python",
   "pygments_lexer": "ipython2",
   "version": "2.7.15rc1"
  }
 },
 "nbformat": 4,
 "nbformat_minor": 2
}
